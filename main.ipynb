{
 "cells": [
  {
   "cell_type": "code",
   "execution_count": 24,
   "id": "initial_id",
   "metadata": {
    "collapsed": true,
    "ExecuteTime": {
     "end_time": "2024-05-12T18:10:43.955870Z",
     "start_time": "2024-05-12T18:10:43.953154Z"
    }
   },
   "outputs": [],
   "source": [
    "import base64\n",
    "import requests\n",
    "from transformers import TrOCRProcessor, VisionEncoderDecoderModel\n",
    "from PIL import Image"
   ]
  },
  {
   "cell_type": "code",
   "outputs": [
    {
     "name": "stdout",
     "output_type": "stream",
     "text": [
      "WARNING:tensorflow:From C:\\Users\\bhavesh\\AppData\\Roaming\\Python\\Python311\\site-packages\\keras\\src\\losses.py:2976: The name tf.losses.sparse_softmax_cross_entropy is deprecated. Please use tf.compat.v1.losses.sparse_softmax_cross_entropy instead.\n"
     ]
    },
    {
     "name": "stderr",
     "output_type": "stream",
     "text": [
      "C:\\Users\\bhavesh\\AppData\\Local\\Programs\\Python\\Python311\\Lib\\site-packages\\huggingface_hub\\file_download.py:1132: FutureWarning: `resume_download` is deprecated and will be removed in version 1.0.0. Downloads always resume when possible. If you want to force a new download, use `force_download=True`.\n",
      "  warnings.warn(\n",
      "Could not find image processor class in the image processor config or the model config. Loading based on pattern matching with the model's feature extractor configuration. Please open a PR/issue to update `preprocessor_config.json` to use `image_processor_type` instead of `feature_extractor_type`. This warning will be removed in v4.40.\n",
      "Some weights of VisionEncoderDecoderModel were not initialized from the model checkpoint at microsoft/trocr-large-handwritten and are newly initialized: ['encoder.pooler.dense.bias', 'encoder.pooler.dense.weight']\n",
      "You should probably TRAIN this model on a down-stream task to be able to use it for predictions and inference.\n"
     ]
    }
   ],
   "source": [
    "processor = TrOCRProcessor.from_pretrained('microsoft/trocr-large-handwritten')\n",
    "model = VisionEncoderDecoderModel.from_pretrained('microsoft/trocr-large-handwritten')"
   ],
   "metadata": {
    "collapsed": false,
    "ExecuteTime": {
     "end_time": "2024-05-12T17:30:40.859255Z",
     "start_time": "2024-05-12T17:30:27.227115Z"
    }
   },
   "id": "aeaa93ccddbb54d7",
   "execution_count": 5
  },
  {
   "cell_type": "code",
   "outputs": [],
   "source": [
    "url = './tests/979C162C22180881C0BCF194428941D05401E8A2.jpg'\n",
    "image = Image.open(url).convert(\"RGB\")\n",
    "pixel_values = processor(images=image, return_tensors=\"pt\").pixel_values"
   ],
   "metadata": {
    "collapsed": false,
    "ExecuteTime": {
     "end_time": "2024-05-12T17:34:28.311311Z",
     "start_time": "2024-05-12T17:34:28.300306Z"
    }
   },
   "id": "92427474e1135a72",
   "execution_count": 15
  },
  {
   "cell_type": "code",
   "outputs": [],
   "source": [
    "generated_ids = model.generate(pixel_values)\n",
    "generated_text = processor.batch_decode(generated_ids, skip_special_tokens=True)[0]"
   ],
   "metadata": {
    "collapsed": false,
    "ExecuteTime": {
     "end_time": "2024-05-12T17:34:31.680730Z",
     "start_time": "2024-05-12T17:34:28.477793Z"
    }
   },
   "id": "9c026b4082978ad9",
   "execution_count": 16
  },
  {
   "cell_type": "code",
   "outputs": [
    {
     "data": {
      "text/plain": "'VANDENABLE'"
     },
     "execution_count": 17,
     "metadata": {},
     "output_type": "execute_result"
    }
   ],
   "source": [
    "generated_text"
   ],
   "metadata": {
    "collapsed": false,
    "ExecuteTime": {
     "end_time": "2024-05-12T17:34:31.687019Z",
     "start_time": "2024-05-12T17:34:31.682780Z"
    }
   },
   "id": "d9658f6d0c4fa9c",
   "execution_count": 17
  },
  {
   "cell_type": "code",
   "outputs": [
    {
     "data": {
      "text/plain": "'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'"
     },
     "execution_count": 22,
     "metadata": {},
     "output_type": "execute_result"
    }
   ],
   "source": [
    "b64_img = base64.b64encode(open(url, \"rb\").read()).decode()\n",
    "b64_img"
   ],
   "metadata": {
    "collapsed": false,
    "ExecuteTime": {
     "end_time": "2024-05-12T17:53:51.513948Z",
     "start_time": "2024-05-12T17:53:51.508651Z"
    }
   },
   "id": "353ebc86f8654043",
   "execution_count": 22
  },
  {
   "cell_type": "code",
   "outputs": [
    {
     "data": {
      "text/plain": "<Response [200]>"
     },
     "execution_count": 31,
     "metadata": {},
     "output_type": "execute_result"
    }
   ],
   "source": [
    "res = requests.post(\"http://127.0.0.1:8000/get-text\", json={\"image\":b64_img})\n",
    "res"
   ],
   "metadata": {
    "collapsed": false,
    "ExecuteTime": {
     "end_time": "2024-05-12T18:15:01.891009Z",
     "start_time": "2024-05-12T18:14:56.711647Z"
    }
   },
   "id": "8147fc50a36a10a",
   "execution_count": 31
  },
  {
   "cell_type": "code",
   "outputs": [
    {
     "data": {
      "text/plain": "b'{\"text\":\"VANDENABLE\"}'"
     },
     "execution_count": 32,
     "metadata": {},
     "output_type": "execute_result"
    }
   ],
   "source": [
    "res.content"
   ],
   "metadata": {
    "collapsed": false,
    "ExecuteTime": {
     "end_time": "2024-05-12T18:15:04.324084Z",
     "start_time": "2024-05-12T18:15:04.320738Z"
    }
   },
   "id": "fde1b7ea3e95c7a0",
   "execution_count": 32
  },
  {
   "cell_type": "code",
   "outputs": [],
   "source": [],
   "metadata": {
    "collapsed": false
   },
   "id": "cdcc9a23534272ae"
  }
 ],
 "metadata": {
  "kernelspec": {
   "display_name": "Python 3",
   "language": "python",
   "name": "python3"
  },
  "language_info": {
   "codemirror_mode": {
    "name": "ipython",
    "version": 2
   },
   "file_extension": ".py",
   "mimetype": "text/x-python",
   "name": "python",
   "nbconvert_exporter": "python",
   "pygments_lexer": "ipython2",
   "version": "2.7.6"
  }
 },
 "nbformat": 4,
 "nbformat_minor": 5
}
